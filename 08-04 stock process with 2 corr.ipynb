{
 "cells": [
  {
   "cell_type": "code",
   "execution_count": 1,
   "metadata": {},
   "outputs": [],
   "source": [
    "import numpy as np\n",
    "import matplotlib.pyplot as plt\n",
    "plt.close()"
   ]
  },
  {
   "cell_type": "code",
   "execution_count": 2,
   "metadata": {},
   "outputs": [],
   "source": [
    "#vol 및 변수들 지정\n",
    "x_vol = 0.079 ; y_vol = 0.105\n",
    "r = 0.021\n",
    "N = 100; T = 1"
   ]
  },
  {
   "cell_type": "code",
   "execution_count": 3,
   "metadata": {},
   "outputs": [
    {
     "data": {
      "text/plain": [
       "array([[1. , 0.3],\n",
       "       [0.3, 1. ]])"
      ]
     },
     "execution_count": 3,
     "metadata": {},
     "output_type": "execute_result"
    }
   ],
   "source": [
    "# dt, rho 등 변수와 corr matrix만들기\n",
    "S1 = np.zeros((N+1, 1))\n",
    "S2 = np.zeros((N+1, 1))\n",
    "S1[0] = 100; S2[0] = 100\n",
    "dt = T/N ; t = np.linspace(0,T,N+1)\n",
    "rho = 0.3\n",
    "correlation = np.array([[1,rho], [rho,1]])\n",
    "correlation"
   ]
  },
  {
   "cell_type": "code",
   "execution_count": 10,
   "metadata": {},
   "outputs": [
    {
     "name": "stdout",
     "output_type": "stream",
     "text": [
      "cholesky is \n",
      " [[1.        0.       ]\n",
      " [0.3       0.9539392]]\n"
     ]
    }
   ],
   "source": [
    "# cholesky\n",
    "cholesky=np.linalg.cholesky(correlation)\n",
    "print('cholesky is', '\\n' , cholesky)\n",
    "z0 = np.random.normal(0,1,size=[N,2])\n",
    "np.random.seed(56)\n",
    "z0 = np.transpose(z0)\n",
    "z = np.matmul(cholesky,z0)\n",
    "Worst_performer = np.zeros((N+1,1))"
   ]
  },
  {
   "cell_type": "code",
   "execution_count": 14,
   "metadata": {},
   "outputs": [],
   "source": [
    "for i in range(N):\n",
    "    S1[i+1] = S1[i]*np.exp((r-0.5*x_vol**2)*dt\\\n",
    "                          +x_vol*z[0,i]*np.sqrt(dt))\n",
    "    S2[i+1] = S2[i]*np.exp((r-0.5*y_vol**2)*dt\\\n",
    "                          +y_vol*z[1,i]*np.sqrt(dt))\n",
    "    Worst_performer[i] = min(S1[i,0], S2[i,0])\n",
    "    Worst_performer[-1] = min(S1[-1,0],S2[-1,0])"
   ]
  },
  {
   "cell_type": "code",
   "execution_count": 15,
   "metadata": {},
   "outputs": [
    {
     "data": {
      "image/png": "[encoded data removed]",
      "text/plain": [
       "<Figure size 432x288 with 1 Axes>"
      ]
     },
     "metadata": {
      "needs_background": "light"
     },
     "output_type": "display_data"
    }
   ],
   "source": [
    "# visualization\n",
    "plt.plot(t,S1[:],'k-',\n",
    "        label='Asset1',linewidth=1,\n",
    "        markersize=3.5)\n",
    "plt.plot(t,S2[:],'k--',\n",
    "        label='Asset2',linewidth=1,\n",
    "        markersize=3.5)\n",
    "plt.plot(t,Worst_performer[:],'k+-',\n",
    "        label='min(S1,S2)',linewidth=1,\n",
    "        markersize=3.5)\n",
    "plt.legend()\n",
    "plt.xlim(0,0.1)\n",
    "plt.ylim(70,130)\n",
    "plt.xlabel('Time')\n",
    "plt.ylabel('Stock process')\n",
    "plt.legend(prop={'size':12})\n",
    "plt.show()"
   ]
  },
  {
   "cell_type": "code",
   "execution_count": null,
   "metadata": {},
   "outputs": [],
   "source": []
  }
 ],
 "metadata": {
  "kernelspec": {
   "display_name": "Python 3",
   "language": "python",
   "name": "python3"
  },
  "language_info": {
   "codemirror_mode": {
    "name": "ipython",
    "version": 3
   },
   "file_extension": ".py",
   "mimetype": "text/x-python",
   "name": "python",
   "nbconvert_exporter": "python",
   "pygments_lexer": "ipython3",
   "version": "3.7.6"
  }
 },
 "nbformat": 4,
 "nbformat_minor": 4
}

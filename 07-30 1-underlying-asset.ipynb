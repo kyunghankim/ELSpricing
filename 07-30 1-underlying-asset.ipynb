{
 "cells": [
  {
   "cell_type": "code",
   "execution_count": 2,
   "metadata": {},
   "outputs": [],
   "source": [
    "#ELS-1underlying\n",
    "import numpy as np\n",
    "from datetime import date"
   ]
  },
  {
   "cell_type": "code",
   "execution_count": 3,
   "metadata": {},
   "outputs": [],
   "source": [
    "# 시뮬레이션 10000, 이자율 1.65, 변동성 17.78%\n",
    "n = 10000 ; r = 0.0165 ; vol = 0.1778"
   ]
  },
  {
   "cell_type": "code",
   "execution_count": 25,
   "metadata": {},
   "outputs": [],
   "source": [
    "# 체크 날짜 및 행사가격 설정\n",
    "n0 = date.toordinal(date(2018,3,23))\n",
    "n1 = date.toordinal(date(2018,9,19))\n",
    "n2 = date.toordinal(date(2019,3,20))\n",
    "n3 = date.toordinal(date(2019,9,23))\n",
    "n4 = date.toordinal(date(2020,3,23))\n",
    "n5 = date.toordinal(date(2020,9,23))\n",
    "n6 = date.toordinal(date(2021,3,23))\n",
    "check_day = np.array([n1-n0,n2-n0,n3-n0,\n",
    "                     n4-n0,n5-n0,n6-n0])\n",
    "oneyear = 365 ; total_date = n6-n0 \n",
    "dt = 1/oneyear\n",
    "S = np.zeros([total_date+1, 1])\n",
    "S[0] = 100.0\n",
    "strike_price = np.array([0.95, 0.95, 0.95, 0.90, 0.90, 0.85])*S[0]"
   ]
  },
  {
   "cell_type": "code",
   "execution_count": 19,
   "metadata": {},
   "outputs": [],
   "source": [
    "\n",
    "repay_n = len(strike_price)\n",
    "coupon_rate = np.array([0.022, 0.044, 0.066, 0.088,\n",
    "                       0.11, 0.132])\n",
    "payment = np.zeros([repay_n, 1])"
   ]
  },
  {
   "cell_type": "code",
   "execution_count": 20,
   "metadata": {},
   "outputs": [],
   "source": [
    "#액면가, payoff등\n",
    "facevalue = 10**4\n",
    "total_payoff = np.zeros([repay_n, 1])\n",
    "payoff = np.zeros([repay_n, 1])\n",
    "discount_payoff = np.zeros([repay_n, 1])\n",
    "knock_in_barrier = S[0]*0.65 ; dummy = 0.132"
   ]
  },
  {
   "cell_type": "code",
   "execution_count": 21,
   "metadata": {},
   "outputs": [],
   "source": [
    "#조기상환 했을 때 벡터 생성\n",
    "for j in range(repay_n):\n",
    "    payment[j] = facevalue*(1+coupon_rate[j])"
   ]
  },
  {
   "cell_type": "code",
   "execution_count": 27,
   "metadata": {},
   "outputs": [
    {
     "name": "stdout",
     "output_type": "stream",
     "text": [
      "9877.687695673761\n"
     ]
    }
   ],
   "source": [
    "#\n",
    "for i in range(n):\n",
    "    z = np.random.normal(0, 1, size = [total_date, 1])\n",
    "    for j in range(total_date):\n",
    "        S[j+1] = S[j]*np.exp((r-0.5*vol**2)*dt+vol*np.sqrt(dt)*z[j])\n",
    "    S_checkday = S[check_day]\n",
    "    payoff = np.zeros([repay_n, 1]); repay_event = 0\n",
    "    for j in range(repay_n):\n",
    "        if S_checkday[j] >= strike_price[j]:\n",
    "            payoff[j] = payment[j]\n",
    "            repay_event = 1\n",
    "            break\n",
    "    if repay_event == 0:\n",
    "        if min(S) > knock_in_barrier:\n",
    "            payoff[-1] = facevalue*(1+dummy)\n",
    "        else:\n",
    "            payoff[-1] = facevalue*(S[-1]/S[0])\n",
    "    total_payoff = total_payoff + payoff\n",
    "mean_payoff = total_payoff/n\n",
    "for j in range(repay_n):\n",
    "    discount_payoff[j] = mean_payoff[j]*np.exp(-r*check_day[j]/oneyear)\n",
    "price = np.sum(discount_payoff)\n",
    "print(price)"
   ]
  },
  {
   "cell_type": "code",
   "execution_count": null,
   "metadata": {},
   "outputs": [],
   "source": []
  }
 ],
 "metadata": {
  "kernelspec": {
   "display_name": "Python 3",
   "language": "python",
   "name": "python3"
  },
  "language_info": {
   "codemirror_mode": {
    "name": "ipython",
    "version": 3
   },
   "file_extension": ".py",
   "mimetype": "text/x-python",
   "name": "python",
   "nbconvert_exporter": "python",
   "pygments_lexer": "ipython3",
   "version": "3.7.6"
  }
 },
 "nbformat": 4,
 "nbformat_minor": 4
}

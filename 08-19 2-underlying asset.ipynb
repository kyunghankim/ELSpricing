{
 "cells": [
  {
   "cell_type": "code",
   "execution_count": 1,
   "metadata": {},
   "outputs": [],
   "source": [
    "import numpy as np\n",
    "from datetime import date"
   ]
  },
  {
   "cell_type": "code",
   "execution_count": 2,
   "metadata": {},
   "outputs": [],
   "source": [
    "# 이자율, 시행횟수 등 변수지정\n",
    "n = 10000 ; r = 0.0165\n",
    "x_vol = 0.249 ; y_vol = 0.2182"
   ]
  },
  {
   "cell_type": "code",
   "execution_count": 4,
   "metadata": {},
   "outputs": [],
   "source": [
    "# 시간 설정 및 체크포인트\n",
    "n0 = date.toordinal(date(2018, 6, 29))\n",
    "n1 = date.toordinal(date(2018, 12, 21))\n",
    "n2 = date.toordinal(date(2019, 6, 25))\n",
    "n3 = date.toordinal(date(2019, 12, 23))\n",
    "n4 = date.toordinal(date(2020, 6, 24))\n",
    "n5 = date.toordinal(date(2020, 12, 23))\n",
    "n6 = date.toordinal(date(2021, 6, 24))\n",
    "check_day = np.array([n1-n0, n2-n0, n3-n0,\\\n",
    "                      n4-n0, n5-n0, n6-n0])\n",
    "rho = 0.0981; corr = np.array([[1,rho],\n",
    "                              [rho,1]])\n",
    "oneyear = 365 ; tot_date = n6 - n0 ; dt = 1/oneyear"
   ]
  },
  {
   "cell_type": "code",
   "execution_count": 11,
   "metadata": {},
   "outputs": [],
   "source": [
    "# cholesky matrix 만들기\n",
    "k = np.linalg.cholesky(corr)\n",
    "S1 = np.zeros((tot_date+1, 1))\n",
    "S2 = np.zeros((tot_date+1, 1))\n",
    "# 기초자산의 초기 값\n",
    "S1[0] = 100; S2[0] = 100\n",
    "ratio_S1 = S1[0] ; ratio_S2 = S2[0]\n",
    "strike_price = ([0.90, 0.90, 0.85,\\\n",
    "             0.85, 0.80, 0.75])\n",
    "# 조기상환 횟수\n",
    "repay_n = len(strike_price)\n",
    "# 조기상환시 받는 쿠폰 이자율\n",
    "coupon_rate = ([0.025, 0.05, 0.075, 0.1, 0.125, 0.15])\n",
    "# 조기상환시 payoff vector\n",
    "payment = np.zeros([repay_n, 1])\n",
    "# payoff vector\n",
    "payoff = np.zeros([repay_n, 1])\n",
    "# 전체 payoff vector\n",
    "tot_payoff = np.zeros([repay_n, 1])\n",
    "#현가 할인 된 payoff vector\n",
    "discount_payoff = np.zeros([repay_n, 1])"
   ]
  },
  {
   "cell_type": "code",
   "execution_count": 20,
   "metadata": {},
   "outputs": [
    {
     "name": "stdout",
     "output_type": "stream",
     "text": [
      "[[1.         0.        ]\n",
      " [0.0981     0.99517656]]\n",
      "[[ 0.73220132 -1.0770417   0.62219859 ...  0.4550102   0.59932715\n",
      "  -1.33305077]\n",
      " [-1.28669793 -1.14075812  0.46257505 ... -0.41863921 -1.00410972\n",
      "  -0.68404501]]\n"
     ]
    }
   ],
   "source": [
    "print(k)\n",
    "print(w)"
   ]
  },
  {
   "cell_type": "code",
   "execution_count": 12,
   "metadata": {},
   "outputs": [],
   "source": [
    "# facevalue, dummy\n",
    "face_value = 10**4\n",
    "dummy = 0.15\n",
    "# knock-in barrier\n",
    "kib = 0.50"
   ]
  },
  {
   "cell_type": "code",
   "execution_count": 19,
   "metadata": {},
   "outputs": [],
   "source": [
    "# 조기상환시 페이오프 벡터\n",
    "for j in range(repay_n):\n",
    "    payment[j] = face_value*(1+coupon_rate[j])"
   ]
  },
  {
   "cell_type": "code",
   "execution_count": 26,
   "metadata": {},
   "outputs": [
    {
     "name": "stdout",
     "output_type": "stream",
     "text": [
      "[ 0.73220132 -1.0770417   0.62219859 ...  0.4550102   0.59932715\n",
      " -1.33305077]\n"
     ]
    }
   ],
   "source": [
    "print(w[0,:])"
   ]
  },
  {
   "cell_type": "code",
   "execution_count": 29,
   "metadata": {},
   "outputs": [
    {
     "name": "stdout",
     "output_type": "stream",
     "text": [
      "486.0182052932051\n"
     ]
    }
   ],
   "source": [
    "# MonteCarlo\n",
    "for i in range(n):\n",
    "    # 상관관계가 있는 난수 생성\n",
    "    w0 = np.random.normal(0, 1, size=[tot_date,2])\n",
    "    # 난수 행렬 전치\n",
    "    w0 = np.transpose(w0)\n",
    "    w = np.matmul(k,w0)\n",
    "    for j in range(tot_date):\n",
    "        S1[j+1] = S1[j]*np.exp((r-0.5*x_vol**2)*dt+x_vol*np.sqrt(dt)*w[0,j])\n",
    "        S2[j+1] = S2[j]*np.exp((r-0.5*y_vol**2)*dt+y_vol*np.sqrt(dt)*w[1,j])\n",
    "    #[만기평가가격/최초기준가격]의 비율이 더 낮은 가격을 갖는 기초자산\n",
    "    R1 = S1/ratio_S1 ; R2 = S2/ratio_S2\n",
    "    WP = np.minimum(R1, R2)\n",
    "    # 조기상환일 체크하여 페이오프 결정\n",
    "    WP_checkday = WP[check_day]\n",
    "    payoff = np.zeros([repay_n,1])\n",
    "    # 조기 상환이 되지 않은 상태\n",
    "    repay_event = 0\n",
    "    for j in range(repay_n):\n",
    "        if WP_checkday[j] >= strike_price[j]:\n",
    "            payoff[j] = payment[j] #<- payment:기상환시 페이오프벡터\n",
    "            #조기상환이 된 상태를 의미\n",
    "            repay_event = 1\n",
    "            break\n",
    "    #조기상환 되지 않고 만기까지 온 경우\n",
    "    if repay_event == 0:\n",
    "        if min(WP) > kib:\n",
    "            #knock in barrier 노터치\n",
    "            payoff[-1] = face_value*(1+dummy)\n",
    "        else:\n",
    "            #knock in barrier 터치\n",
    "            payoff[-1] = face_value*WP[-1]\n",
    "            #시뮬레이션마다 페이오프를 더하기\n",
    "            tot_payoff = tot_payoff + payoff\n",
    "#모든 시뮬레이션의 페이오프의 평균을 구함\n",
    "mean_payoff = tot_payoff/n\n",
    "#페이오프를 무위험 이자율로 할인하여 현재가격을 구함\n",
    "for j in range(repay_n):\n",
    "    discount_payoff[j] = mean_payoff[j]\\\n",
    "    *np.exp(-r*check_day[j]/oneyear)\n",
    "# pricing ELS\n",
    "price = np.sum(discount_payoff)\n",
    "print(price)"
   ]
  },
  {
   "cell_type": "code",
   "execution_count": null,
   "metadata": {},
   "outputs": [],
   "source": []
  }
 ],
 "metadata": {
  "kernelspec": {
   "display_name": "Python 3",
   "language": "python",
   "name": "python3"
  },
  "language_info": {
   "codemirror_mode": {
    "name": "ipython",
    "version": 3
   },
   "file_extension": ".py",
   "mimetype": "text/x-python",
   "name": "python",
   "nbconvert_exporter": "python",
   "pygments_lexer": "ipython3",
   "version": "3.7.6"
  }
 },
 "nbformat": 4,
 "nbformat_minor": 4
}

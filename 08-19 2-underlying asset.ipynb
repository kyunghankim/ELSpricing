{
 "cells": [
  {
   "cell_type": "code",
   "execution_count": 1,
   "metadata": {},
   "outputs": [],
   "source": [
    "import numpy as np\n",
    "from datetime import date"
   ]
  },
  {
   "cell_type": "code",
   "execution_count": 2,
   "metadata": {},
   "outputs": [],
   "source": [
    "# 이자율, 시행횟수 등 변수지정\n",
    "n = 10000 ; r = 0.0165\n",
    "x_vol = 0.249 ; y_vol = 0.2182"
   ]
  },
  {
   "cell_type": "code",
   "execution_count": 4,
   "metadata": {},
   "outputs": [],
   "source": [
    "# 시간 설정 및 체크포인트\n",
    "n0 = date.toordinal(date(2018, 6, 29))\n",
    "n1 = date.toordinal(date(2018, 12, 21))\n",
    "n2 = date.toordinal(date(2019, 6, 25))\n",
    "n3 = date.toordinal(date(2019, 12, 23))\n",
    "n4 = date.toordinal(date(2020, 6, 24))\n",
    "n5 = date.toordinal(date(2020, 12, 23))\n",
    "n6 = date.toordinal(date(2021, 6, 24))\n",
    "check_day = np.array([n1-n0, n2-n0, n3-n0,\\\n",
    "                      n4-n0, n5-n0, n6-n0])\n",
    "rho = 0.0981; corr = np.array([[1,rho],\n",
    "                              [rho,1]])\n",
    "oneyear = 365 ; tot_date = n6 - n0 ; dt = 1/oneyear"
   ]
  },
  {
   "cell_type": "code",
   "execution_count": 6,
   "metadata": {},
   "outputs": [],
   "source": [
    "# cholesky matrix 만들기\n",
    "k = np.linalg.cholesky(corr)\n",
    "S1 = np.zeros((tot_date+1, 1))\n",
    "S2 = np.zeros((tot_date+1, 1))\n",
    "# 기초자산의 초기 값\n",
    "S1[0] = 100; S2[0] = 100\n",
    "ratio_S1 = S1[0] ; ratio_S2 = S2[0]\n",
    "strike_price = ([0.90, 0.90, 0.85,\\\n",
    "             0.85, 0.80, 0.75])\n",
    "# 조기상환 횟수\n",
    "repay_n = len(strike_price)\n",
    "# 조기상환시 받는 쿠폰 이자율\n",
    "coupon_rate = ([0.025, 0.05, 0.075, 0.1, 0.125, 0.15])\n",
    "# 조기상환시 payoff vector\n",
    "payment = np.zeros([repay_n, 1])\n",
    "# payoff vector\n",
    "payoff = np.zeros([repay_n, 1])\n",
    "# 전체 payoff vector\n",
    "tot_payoff = np.zeros([repay_n, 1])\n",
    "#현가 할인 된 payoff vector\n",
    "discount_payoff = np.zeros([repay_n, 1])"
   ]
  },
  {
   "cell_type": "code",
   "execution_count": 7,
   "metadata": {},
   "outputs": [],
   "source": [
    "# facevalue, dummy\n",
    "face_value = 10**4\n",
    "dummy = 0.15\n",
    "# knock-in barrier\n",
    "kib = 0.50"
   ]
  },
  {
   "cell_type": "code",
   "execution_count": 8,
   "metadata": {},
   "outputs": [],
   "source": [
    "# 조기상환시 페이오프 벡터\n",
    "for j in range(repay_n):\n",
    "    payment[j] = face_value*(1+coupon_rate[j])"
   ]
  },
  {
   "cell_type": "code",
   "execution_count": null,
   "metadata": {},
   "outputs": [],
   "source": [
    "# MonteCarlo\n",
    "for i in range(n):\n",
    "    # 상관관계가 있는 난수 생성\n",
    "    w0 = np.random.normal(0, 1, size=[tot_date,2])\n",
    "    # 난수 행렬 전치\n",
    "    w0 = np.transpose(w0)\n",
    "    w = np.matmul(k,w0)\n",
    "    for j in range(tot_date):\n",
    "        "
   ]
  }
 ],
 "metadata": {
  "kernelspec": {
   "display_name": "Python 3",
   "language": "python",
   "name": "python3"
  },
  "language_info": {
   "codemirror_mode": {
    "name": "ipython",
    "version": 3
   },
   "file_extension": ".py",
   "mimetype": "text/x-python",
   "name": "python",
   "nbconvert_exporter": "python",
   "pygments_lexer": "ipython3",
   "version": "3.7.6"
  }
 },
 "nbformat": 4,
 "nbformat_minor": 4
}
